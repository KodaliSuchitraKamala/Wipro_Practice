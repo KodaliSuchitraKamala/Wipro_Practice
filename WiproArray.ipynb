{
  "nbformat": 4,
  "nbformat_minor": 0,
  "metadata": {
    "colab": {
      "provenance": [],
      "authorship_tag": "ABX9TyMQ9xFcz+/vR9MgfYL5TNi5",
      "include_colab_link": true
    },
    "kernelspec": {
      "name": "python3",
      "display_name": "Python 3"
    },
    "language_info": {
      "name": "python"
    }
  },
  "cells": [
    {
      "cell_type": "markdown",
      "metadata": {
        "id": "view-in-github",
        "colab_type": "text"
      },
      "source": [
        "<a href=\"https://colab.research.google.com/github/KodaliSuchitraKamala/Wipro_Practice/blob/main/WiproArray.ipynb\" target=\"_parent\"><img src=\"https://colab.research.google.com/assets/colab-badge.svg\" alt=\"Open In Colab\"/></a>"
      ]
    },
    {
      "cell_type": "code",
      "execution_count": 3,
      "metadata": {
        "colab": {
          "base_uri": "https://localhost:8080/"
        },
        "id": "0Abs3D5PkHR6",
        "outputId": "26389593-a72c-4444-c6df-40b9c75837a0"
      },
      "outputs": [
        {
          "output_type": "stream",
          "name": "stdout",
          "text": [
            "Enter integer number 1: 3\n",
            "Enter integer number 2: 232\n",
            "Enter integer number 3: 42\n",
            "Enter integer number 4: 2\n",
            "Enter integer number 5: 324\n",
            "Enter integer number 6: 2\n",
            "Enter integer number 7: 2\n",
            "Enter integer number 8: 3\n",
            "Enter integer number 9: 423\n",
            "Enter integer number 10: 23\n",
            "The average of the 10 integers is: 105.6\n"
          ]
        }
      ],
      "source": [
        "\"\"\"\n",
        "If we are required to read and find the average of 10 integer values, it can be\n",
        "very easily done with the use of loop (Which we discussed in the previous capsule).\n",
        "In each iteration of loop we add the new value to the sum, and at the end of 10\n",
        "iterations we divide the sum by 10 to give the average. The important point to note\n",
        "in this algorithm is that we do not need to store the value of all the 10 integers\n",
        "entered by the user at the same time, but we must store only the most recently read\n",
        "value which is added to the sum.\n",
        "\"\"\"\n",
        "numbers = []\n",
        "total = 0\n",
        "while len(numbers) < 10:\n",
        "  try:\n",
        "    num_str = input(f\"Enter integer number {len(numbers) + 1}: \")\n",
        "    num = int(num_str)\n",
        "    numbers.append(num)\n",
        "    total += num\n",
        "  except ValueError:\n",
        "    print(\"Invalid input. Please enter an integer.\")\n",
        "if len(numbers) > 0:\n",
        "  average = total / len(numbers)\n",
        "  print(f\"The average of the {len(numbers)} integers is: {average}\")\n",
        "else:\n",
        "  print(\"No valid integers were entered.\")"
      ]
    },
    {
      "cell_type": "code",
      "source": [
        "\"\"\"\n",
        "Read 10 intergers from the user to find their average and also find out how many\n",
        "integers are less than the average. Now to design the algorithm we must first find\n",
        "the average (like in the above program) and then compare each number with the average\n",
        "to check if it less than the average or not. So we are not supposed to forget or\n",
        "loose the values entered by the user till we compare them with the average. Unlike\n",
        "the above program Where we had to store only the most recently read value here we\n",
        "have to store all the 10 values.\n",
        "Now, without using arrays we can solve this problem by having 10 integer variables\n",
        "to hold the values entered by the user. But then there will be a difficulty in\n",
        "writing the iterative loop as the variable names will have to change for every\n",
        "iteration of the loop. Arrays helps us solve this problem as seen in our subsequent\n",
        "discussion.\n",
        "\"\"\"\n",
        "numbers = []\n",
        "total = 0\n",
        "while len(numbers) < 10:\n",
        "  try:\n",
        "    num_str = input(f\"Enter integer number {len(numbers) + 1}: \")\n",
        "    num = int(num_str)\n",
        "    numbers.append(num)\n",
        "    total += num\n",
        "  except ValueError:\n",
        "    print(\"Invalid input. Please enter an integer.\")\n",
        "average = 0\n",
        "if len(numbers) > 0:\n",
        "  average = total / len(numbers)\n",
        "  print(f\"\\nThe average of the {len(numbers)} integers is: {average}\")\n",
        "else:\n",
        "  print(\"No valid integers were entered.\")\n",
        "if len(numbers) > 0:\n",
        "  count_less_than_average = 0\n",
        "  for num in numbers:\n",
        "    if num < average:\n",
        "      count_less_than_average += 1\n",
        "  print(f\"{count_less_than_average} integers are less than the average.\")"
      ],
      "metadata": {
        "colab": {
          "base_uri": "https://localhost:8080/"
        },
        "id": "J8J4V4ghmUVQ",
        "outputId": "387c93db-77fb-4aeb-a654-bd7bc04fb027"
      },
      "execution_count": 4,
      "outputs": [
        {
          "output_type": "stream",
          "name": "stdout",
          "text": [
            "Enter integer number 1: 23\n",
            "Enter integer number 2: 23\n",
            "Enter integer number 3: 23\n",
            "Enter integer number 4: 12\n",
            "Enter integer number 5: 4\n",
            "Enter integer number 6: 54\n",
            "Enter integer number 7: 4\n",
            "Enter integer number 8: 56\n",
            "Enter integer number 9: 5\n",
            "Enter integer number 10: 46\n",
            "\n",
            "The average of the 10 integers is: 25.0\n",
            "7 integers are less than the average.\n"
          ]
        }
      ]
    },
    {
      "cell_type": "code",
      "source": [
        "\"\"\"\n",
        "Design an algorithm to accept 10 integer elements for an array and print the sum of all the elements.\n",
        "\"\"\"\n",
        "numbers = []\n",
        "total = 0\n",
        "while len(numbers) < 10:\n",
        "  try:\n",
        "    num_str = input(f\"Enter integer number {len(numbers) + 1}: \")\n",
        "    num = int(num_str)\n",
        "    numbers.append(num)\n",
        "    total += num\n",
        "  except ValueError:\n",
        "    print(\"Invalid input. Please enter an integer.\")\n",
        "if len(numbers) > 0:\n",
        "  print(f\"\\nThe sum of the elements is: {total}\")\n",
        "else:\n",
        "  print(\"No valid integers were entered.\")"
      ],
      "metadata": {
        "colab": {
          "base_uri": "https://localhost:8080/"
        },
        "id": "N_1NsiY2qLIw",
        "outputId": "8867bc07-8c54-4882-fcd2-5b6d5a480a28"
      },
      "execution_count": 5,
      "outputs": [
        {
          "output_type": "stream",
          "name": "stdout",
          "text": [
            "Enter integer number 1: 23\n",
            "Enter integer number 2: 2\n",
            "Enter integer number 3: 43\n",
            "Enter integer number 4: 43\n",
            "Enter integer number 5: 343\n",
            "Enter integer number 6: 4\n",
            "Enter integer number 7: 4\n",
            "Enter integer number 8: 4\n",
            "Enter integer number 9: 32\n",
            "Enter integer number 10: 232\n",
            "\n",
            "The sum of the elements is: 730\n"
          ]
        }
      ]
    },
    {
      "cell_type": "code",
      "source": [
        "\"\"\"\n",
        "Design an algorithm to accept 20 integer elements for an array and print the maximum 3 and minimum 3 elements from the array.\n",
        "Note: Sorting of array elements are not expected as part of this activity.\n",
        "\"\"\"\n",
        "numbers = []\n",
        "while len(numbers) < 10:\n",
        "  try:\n",
        "    num_str = input(f\"Enter integer number {len(numbers) + 1}: \")\n",
        "    num = int(num_str)\n",
        "    numbers.append(num)\n",
        "  except ValueError:\n",
        "    print(\"Invalid input. Please enter an integer.\")\n",
        "if len(numbers) == 10:\n",
        "  numbers.reverse()\n",
        "  print(\"\\nThe reversed array is:\")\n",
        "  print(numbers)\n",
        "else:\n",
        "  print(\"\\nNot enough valid integers were entered to reverse the array.\")"
      ],
      "metadata": {
        "colab": {
          "base_uri": "https://localhost:8080/"
        },
        "id": "K8E1U7myq_aj",
        "outputId": "4d6628b7-6b58-4682-8bea-7ec982ccc7e3"
      },
      "execution_count": 6,
      "outputs": [
        {
          "output_type": "stream",
          "name": "stdout",
          "text": [
            "Enter integer number 1: 23\n",
            "Enter integer number 2: 32\n",
            "Enter integer number 3: 42\n",
            "Enter integer number 4: 2\n",
            "Enter integer number 5: 42\n",
            "Enter integer number 6: 41\n",
            "Enter integer number 7: 14\n",
            "Enter integer number 8: 24\n",
            "Enter integer number 9: 23\n",
            "Enter integer number 10: 13\n",
            "\n",
            "The reversed array is:\n",
            "[13, 23, 24, 14, 41, 42, 2, 42, 32, 23]\n"
          ]
        }
      ]
    },
    {
      "cell_type": "code",
      "source": [
        "\"\"\"\n",
        "Design an algorithm to accept 10 integer elements for an array and then rearrange\n",
        "the elements in the array in reverse order. The reversed array must be displayed as ouput.\n",
        "\"\"\"\n",
        "numbers = []\n",
        "while len(numbers) < 10:\n",
        "  try:\n",
        "    num_str = input(f\"Enter integer number {len(numbers) + 1}: \")\n",
        "    num = int(num_str)\n",
        "    numbers.append(num)\n",
        "  except ValueError:\n",
        "    print(\"Invalid input. Please enter an integer.\")\n",
        "if len(numbers) == 10:\n",
        "  numbers.reverse()\n",
        "  print(\"\\nThe reversed array is:\")\n",
        "  print(numbers)\n",
        "else:\n",
        "  print(\"\\nNot enough valid integers were entered to reverse the array.\")"
      ],
      "metadata": {
        "colab": {
          "base_uri": "https://localhost:8080/"
        },
        "id": "QP0cxsgGrhD5",
        "outputId": "f4de4baa-581c-414b-dc08-087868b94322"
      },
      "execution_count": 7,
      "outputs": [
        {
          "output_type": "stream",
          "name": "stdout",
          "text": [
            "Enter integer number 1: 23\n",
            "Enter integer number 2: 23\n",
            "Enter integer number 3: 34\n",
            "Enter integer number 4: 54\n",
            "Enter integer number 5: 454\n",
            "Enter integer number 6: 45\n",
            "Enter integer number 7: 45\n",
            "Enter integer number 8: 45\n",
            "Enter integer number 9: 45\n",
            "Enter integer number 10: 34\n",
            "\n",
            "The reversed array is:\n",
            "[34, 45, 45, 45, 45, 454, 54, 34, 23, 23]\n"
          ]
        }
      ]
    },
    {
      "cell_type": "code",
      "source": [
        "\"\"\"\n",
        "Design an algorithm which accepts a set of N (consider N to be 30) Student's examination\n",
        "marks (in the range of 0 to 100). Then make a count of the number of students that\n",
        "obtain each possible marks(i.e.; count of how many students scored 0, count of how\n",
        "many students scored 1, .... till count of how many students scored 100)\n",
        "\"\"\"\n",
        "N = 30\n",
        "marks = []\n",
        "print(f\"Please enter the examination marks for {N} students (between 0 and 100):\")\n",
        "while len(marks) < N:\n",
        "    try:\n",
        "        mark_str = input(f\"Enter mark for student {len(marks) + 1}: \")\n",
        "        mark = int(mark_str)\n",
        "        if 0 <= mark <= 100:\n",
        "            marks.append(mark)\n",
        "        else:\n",
        "            print(\"Invalid input. Please enter a mark between 0 and 100.\")\n",
        "    except ValueError:\n",
        "        print(\"Invalid input. Please enter an integer.\")\n",
        "mark_counts = [0] * 101\n",
        "for mark in marks:\n",
        "    mark_counts[mark] += 1\n",
        "print(\"\\nCount of students for each mark:\")\n",
        "for mark in range(101):\n",
        "    if mark_counts[mark] > 0:\n",
        "        print(f\"Mark {mark}: {mark_counts[mark]} students\")"
      ],
      "metadata": {
        "colab": {
          "base_uri": "https://localhost:8080/"
        },
        "id": "YAACY2SbvAGe",
        "outputId": "8d43b2e9-4660-455c-f5c1-1e23c7093d54"
      },
      "execution_count": 8,
      "outputs": [
        {
          "output_type": "stream",
          "name": "stdout",
          "text": [
            "Please enter the examination marks for 30 students (between 0 and 100):\n",
            "Enter mark for student 1: 32\n",
            "Enter mark for student 2: 42\n",
            "Enter mark for student 3: 54\n",
            "Enter mark for student 4: 76\n",
            "Enter mark for student 5: 97\n",
            "Enter mark for student 6: 5\n",
            "Enter mark for student 7: 64\n",
            "Enter mark for student 8: 54\n",
            "Enter mark for student 9: 98\n",
            "Enter mark for student 10: 97\n",
            "Enter mark for student 11: 65\n",
            "Enter mark for student 12: 4\n",
            "Enter mark for student 13: 5\n",
            "Enter mark for student 14: 64\n",
            "Enter mark for student 15: 6\n",
            "Enter mark for student 16: \n",
            "Invalid input. Please enter an integer.\n",
            "Enter mark for student 16: 44\n",
            "Enter mark for student 17: 53\n",
            "Enter mark for student 18: 53\n",
            "Enter mark for student 19: 54\n",
            "Enter mark for student 20: 53\n",
            "Enter mark for student 21: 35\n",
            "Enter mark for student 22: 43\n",
            "Enter mark for student 23: 43\n",
            "Enter mark for student 24: 53\n",
            "Enter mark for student 25: 35\n",
            "Enter mark for student 26: 25\n",
            "Enter mark for student 27: 4\n",
            "Enter mark for student 28: 4\n",
            "Enter mark for student 29: 52\n",
            "Enter mark for student 30: 32\n",
            "\n",
            "Count of students for each mark:\n",
            "Mark 4: 3 students\n",
            "Mark 5: 2 students\n",
            "Mark 6: 1 students\n",
            "Mark 25: 1 students\n",
            "Mark 32: 2 students\n",
            "Mark 35: 2 students\n",
            "Mark 42: 1 students\n",
            "Mark 43: 2 students\n",
            "Mark 44: 1 students\n",
            "Mark 52: 1 students\n",
            "Mark 53: 4 students\n",
            "Mark 54: 3 students\n",
            "Mark 64: 2 students\n",
            "Mark 65: 1 students\n",
            "Mark 76: 1 students\n",
            "Mark 97: 2 students\n",
            "Mark 98: 1 students\n"
          ]
        }
      ]
    },
    {
      "cell_type": "code",
      "source": [
        "\"\"\"\n",
        "Modify the algorithm written in the above program in order to get count of students\n",
        "in a specific range of marks as defined below.\n",
        "Range of marks:\n",
        "0 to 10%\n",
        "11% to 20%\n",
        ";\n",
        ";\n",
        ";\n",
        "91% to 100%\n",
        "\"\"\"\n",
        "N = 30\n",
        "marks = []\n",
        "print(f\"Please enter the examination marks for {N} students (between 0 and 100):\")\n",
        "while len(marks) < N:\n",
        "    try:\n",
        "        mark_str = input(f\"Enter mark for student {len(marks) + 1}: \")\n",
        "        mark = int(mark_str)\n",
        "        if 0 <= mark <= 100:\n",
        "            marks.append(mark)\n",
        "        else:\n",
        "            print(\"Invalid input. Please enter a mark between 0 and 100.\")\n",
        "    except ValueError:\n",
        "        print(\"Invalid input. Please enter an integer.\")\n",
        "range_counts = {\n",
        "    \"0% to 10%\": 0,\n",
        "    \"11% to 20%\": 0,\n",
        "    \"21% to 30%\": 0,\n",
        "    \"31% to 40%\": 0,\n",
        "    \"41% to 50%\": 0,\n",
        "    \"51% to 60%\": 0,\n",
        "    \"61% to 70%\": 0,\n",
        "    \"71% to 80%\": 0,\n",
        "    \"81% to 90%\": 0,\n",
        "    \"91% to 100%\": 0,\n",
        "}\n",
        "for mark in marks:\n",
        "    if 0 <= mark <= 10:\n",
        "        range_counts[\"0% to 10%\"] += 1\n",
        "    elif 11 <= mark <= 20:\n",
        "        range_counts[\"11% to 20%\"] += 1\n",
        "    elif 21 <= mark <= 30:\n",
        "        range_counts[\"21% to 30%\"] += 1\n",
        "    elif 31 <= mark <= 40:\n",
        "        range_counts[\"31% to 40%\"] += 1\n",
        "    elif 41 <= mark <= 50:\n",
        "        range_counts[\"41% to 50%\"] += 1\n",
        "    elif 51 <= mark <= 60:\n",
        "        range_counts[\"51% to 60%\"] += 1\n",
        "    elif 61 <= mark <= 70:\n",
        "        range_counts[\"61% to 70%\"] += 1\n",
        "    elif 71 <= mark <= 80:\n",
        "        range_counts[\"71% to 80%\"] += 1\n",
        "    elif 81 <= mark <= 90:\n",
        "        range_counts[\"81% to 90%\"] += 1\n",
        "    elif 91 <= mark <= 100:\n",
        "        range_counts[\"91% to 100%\"] += 1\n",
        "print(\"\\nCount of students in each mark range:\")\n",
        "for range_name, count in range_counts.items():\n",
        "    print(f\"{range_name}: {count} students\")"
      ],
      "metadata": {
        "colab": {
          "base_uri": "https://localhost:8080/"
        },
        "id": "NBJdU54tsukO",
        "outputId": "d1421100-8ae3-462f-d2e2-ebf461a512d7"
      },
      "execution_count": 9,
      "outputs": [
        {
          "output_type": "stream",
          "name": "stdout",
          "text": [
            "Please enter the examination marks for 30 students (between 0 and 100):\n",
            "Enter mark for student 1: 42\n",
            "Enter mark for student 2: 65\n",
            "Enter mark for student 3: 54\n",
            "Enter mark for student 4: 53\n",
            "Enter mark for student 5: 35\n",
            "Enter mark for student 6: 34\n",
            "Enter mark for student 7: 34\n",
            "Enter mark for student 8: 4\n",
            "Enter mark for student 9: 3\n",
            "Enter mark for student 10: 3\n",
            "Enter mark for student 11: 2\n",
            "Enter mark for student 12: 54\n",
            "Enter mark for student 13: 46\n",
            "Enter mark for student 14: 57\n",
            "Enter mark for student 15: \n",
            "Invalid input. Please enter an integer.\n",
            "Enter mark for student 15: 75\n",
            "Enter mark for student 16: 577\n",
            "Invalid input. Please enter a mark between 0 and 100.\n",
            "Enter mark for student 16: 74\n",
            "Enter mark for student 17: 76\n",
            "Enter mark for student 18: 6\n",
            "Enter mark for student 19: 5\n",
            "Enter mark for student 20: 5\n",
            "Enter mark for student 21: 6\n",
            "Enter mark for student 22: 7\n",
            "Enter mark for student 23: 88\n",
            "Enter mark for student 24: 6\n",
            "Enter mark for student 25: \n",
            "Invalid input. Please enter an integer.\n",
            "Enter mark for student 25: 656\n",
            "Invalid input. Please enter a mark between 0 and 100.\n",
            "Enter mark for student 25: 56\n",
            "Enter mark for student 26: 65\n",
            "Enter mark for student 27: 6\n",
            "Enter mark for student 28: 65\n",
            "Enter mark for student 29: 5\n",
            "Enter mark for student 30: 56\n",
            "\n",
            "Count of students in each mark range:\n",
            "0% to 10%: 12 students\n",
            "11% to 20%: 0 students\n",
            "21% to 30%: 0 students\n",
            "31% to 40%: 3 students\n",
            "41% to 50%: 2 students\n",
            "51% to 60%: 6 students\n",
            "61% to 70%: 3 students\n",
            "71% to 80%: 3 students\n",
            "81% to 90%: 1 students\n",
            "91% to 100%: 0 students\n"
          ]
        }
      ]
    },
    {
      "cell_type": "code",
      "source": [],
      "metadata": {
        "id": "HMuaMAnQulA2"
      },
      "execution_count": null,
      "outputs": []
    }
  ]
}