{
  "nbformat": 4,
  "nbformat_minor": 0,
  "metadata": {
    "colab": {
      "provenance": [],
      "authorship_tag": "ABX9TyMbLPCENBR/l9aP0cl6HKis",
      "include_colab_link": true
    },
    "kernelspec": {
      "name": "python3",
      "display_name": "Python 3"
    },
    "language_info": {
      "name": "python"
    }
  },
  "cells": [
    {
      "cell_type": "markdown",
      "metadata": {
        "id": "view-in-github",
        "colab_type": "text"
      },
      "source": [
        "<a href=\"https://colab.research.google.com/github/KodaliSuchitraKamala/Wipro_Practice/blob/main/WiproPatterns.ipynb\" target=\"_parent\"><img src=\"https://colab.research.google.com/assets/colab-badge.svg\" alt=\"Open In Colab\"/></a>"
      ]
    },
    {
      "cell_type": "code",
      "execution_count": 1,
      "metadata": {
        "id": "NrKU_F5rPbXe",
        "colab": {
          "base_uri": "https://localhost:8080/"
        },
        "outputId": "c987ad45-75bd-4821-98f0-bdfda817fc44"
      },
      "outputs": [
        {
          "output_type": "stream",
          "name": "stdout",
          "text": [
            "1 \n",
            "1 2 \n",
            "1 2 3 \n",
            "1 2 3 4 \n",
            "1 2 3 4 5 \n",
            "1 2 3 4 5 6 \n",
            "1 2 3 4 5 6 7 \n",
            "1 2 3 4 5 6 7 8 \n",
            "1 2 3 4 5 6 7 8 9 \n",
            "1 2 3 4 5 6 7 8 9 10 \n"
          ]
        }
      ],
      "source": [
        "\"\"\"\n",
        "Print the below shape on a console window [10 rows right-angled left justified numbers]\n",
        "1\n",
        "1 2\n",
        "1 2 3\n",
        "1 2 3 4\n",
        "1 2 3 4 5\n",
        "1 2 3 4 5 6\n",
        "1 2 3 4 5 6 7\n",
        "1 2 3 4 5 6 7 8\n",
        "1 2 3 4 5 6 7 8 9\n",
        "1 2 3 4 5 6 7 8 9 10\n",
        "\"\"\"\n",
        "for i in range(1, 11):\n",
        "  for j in range(1, i + 1):\n",
        "    print(j, end = ' ')\n",
        "  print()"
      ]
    },
    {
      "cell_type": "code",
      "source": [
        "\"\"\"\n",
        "Print the below shape on a console window [10 rows right-angled right justified stars]\n",
        "                  *\n",
        "                * *\n",
        "              * * *\n",
        "            * * * *\n",
        "          * * * * *\n",
        "        * * * * * *\n",
        "      * * * * * * *\n",
        "    * * * * * * * *\n",
        "  * * * * * * * * *\n",
        "* * * * * * * * * *\n",
        "\"\"\"\n",
        "for i in range(1, 11):\n",
        "  for j in range(1, 11 - i):\n",
        "    print(\" \", end = ' ')\n",
        "  for j in range(1, i + 1):\n",
        "    print(\"*\", end = ' ')\n",
        "  print()"
      ],
      "metadata": {
        "colab": {
          "base_uri": "https://localhost:8080/"
        },
        "id": "Eo-dfOMBQEUL",
        "outputId": "253b1cc7-47ae-4b7f-d0bf-0995e8882c3d"
      },
      "execution_count": 2,
      "outputs": [
        {
          "output_type": "stream",
          "name": "stdout",
          "text": [
            "                  * \n",
            "                * * \n",
            "              * * * \n",
            "            * * * * \n",
            "          * * * * * \n",
            "        * * * * * * \n",
            "      * * * * * * * \n",
            "    * * * * * * * * \n",
            "  * * * * * * * * * \n",
            "* * * * * * * * * * \n"
          ]
        }
      ]
    },
    {
      "cell_type": "code",
      "source": [
        "\"\"\"\n",
        "Print the below shape on a console window [10 rows triangle of incr-decr numbers]\n",
        "                  1\n",
        "                1 2 1\n",
        "              1 2 3 2 1\n",
        "            1 2 3 4 3 2 1\n",
        "          1 2 3 4 5 4 3 2 1\n",
        "        1 2 3 4 5 6 5 4 3 2 1\n",
        "      1 2 3 4 5 6 7 6 5 4 3 2 1\n",
        "    1 2 3 4 5 6 7 8 7 6 5 4 3 2 1\n",
        "  1 2 3 4 5 6 7 8 9 8 7 6 5 4 3 2 1\n",
        "1 2 3 4 5 6 7 8 9 10 9 8 7 6 5 4 3 2 1\n",
        "\"\"\"\n",
        "for i in range(1, 11):\n",
        "  for j in range(1, 11 - i):\n",
        "    print(\" \", end = ' ')\n",
        "  for j in range(1, i + 1):\n",
        "    print(j, end = ' ')\n",
        "  for j in range(i - 1, 0, -1):\n",
        "    print(j, end = ' ')\n",
        "  print()"
      ],
      "metadata": {
        "colab": {
          "base_uri": "https://localhost:8080/"
        },
        "id": "qD75kCW-QHb5",
        "outputId": "5e3e050d-308a-4883-9563-17feec56c167"
      },
      "execution_count": 3,
      "outputs": [
        {
          "output_type": "stream",
          "name": "stdout",
          "text": [
            "                  1 \n",
            "                1 2 1 \n",
            "              1 2 3 2 1 \n",
            "            1 2 3 4 3 2 1 \n",
            "          1 2 3 4 5 4 3 2 1 \n",
            "        1 2 3 4 5 6 5 4 3 2 1 \n",
            "      1 2 3 4 5 6 7 6 5 4 3 2 1 \n",
            "    1 2 3 4 5 6 7 8 7 6 5 4 3 2 1 \n",
            "  1 2 3 4 5 6 7 8 9 8 7 6 5 4 3 2 1 \n",
            "1 2 3 4 5 6 7 8 9 10 9 8 7 6 5 4 3 2 1 \n"
          ]
        }
      ]
    },
    {
      "cell_type": "code",
      "source": [
        "\"\"\"\n",
        "Print the below shape on a console window [10 rows reverse triangle of incr-decr numbers]\n",
        "1 2 3 4 5 6 7 8 9 10 9 8 7 6 5 4 3 2 1\n",
        "  1 2 3 4 5 6 7 8 9 8 7 6 5 4 3 2 1\n",
        "    1 2 3 4 5 6 7 8 7 6 5 4 3 2 1\n",
        "      1 2 3 4 5 6 7 6 5 4 3 2 1\n",
        "        1 2 3 4 5 6 5 4 3 2 1\n",
        "          1 2 3 4 5 4 3 2 1\n",
        "            1 2 3 4 3 2 1\n",
        "              1 2 3 2 1\n",
        "                1 2 1\n",
        "                  1\n",
        "\"\"\"\n",
        "for i in range(10, 0, -1):\n",
        "  for j in range(1, 11 - i):\n",
        "    print(\" \", end = ' ')\n",
        "  for j in range(1, i + 1):\n",
        "    print(j, end = ' ')\n",
        "  for j in range(i - 1, 0, -1):\n",
        "    print(j, end = ' ')\n",
        "  print()"
      ],
      "metadata": {
        "colab": {
          "base_uri": "https://localhost:8080/"
        },
        "id": "yRBgd69wRoDc",
        "outputId": "4ca91cfe-c0fe-45e5-c51c-2bec17ab39dd"
      },
      "execution_count": 4,
      "outputs": [
        {
          "output_type": "stream",
          "name": "stdout",
          "text": [
            "1 2 3 4 5 6 7 8 9 10 9 8 7 6 5 4 3 2 1 \n",
            "  1 2 3 4 5 6 7 8 9 8 7 6 5 4 3 2 1 \n",
            "    1 2 3 4 5 6 7 8 7 6 5 4 3 2 1 \n",
            "      1 2 3 4 5 6 7 6 5 4 3 2 1 \n",
            "        1 2 3 4 5 6 5 4 3 2 1 \n",
            "          1 2 3 4 5 4 3 2 1 \n",
            "            1 2 3 4 3 2 1 \n",
            "              1 2 3 2 1 \n",
            "                1 2 1 \n",
            "                  1 \n"
          ]
        }
      ]
    },
    {
      "cell_type": "code",
      "source": [
        "\"\"\"\n",
        "Print the below shape on a console window [10 rows triangle of incr-nums decr-alphabets]\n",
        "                  1\n",
        "                1 2 A\n",
        "              1 2 3 B A\n",
        "            1 2 3 4 C B A\n",
        "          1 2 3 4 5 D C B A\n",
        "        1 2 3 4 5 6 E D C B A\n",
        "      1 2 3 4 5 6 7 F E D C B A\n",
        "    1 2 3 4 5 6 7 8 G F E D C B A\n",
        "  1 2 3 4 5 6 7 8 9 H G F E D C B A\n",
        "1 2 3 4 5 6 7 8 9 10 I H G F E D C B A\n",
        "\"\"\"\n",
        "for i in range(1, 11):\n",
        "  for j in range(1, 11 - i):\n",
        "    print(\" \", end = ' ')\n",
        "  for j in range(1, i + 1):\n",
        "    print(j, end = ' ')\n",
        "  for j in range(i - 1, 0, -1):\n",
        "    print(chr(j + 64), end = ' ')\n",
        "  print()"
      ],
      "metadata": {
        "colab": {
          "base_uri": "https://localhost:8080/"
        },
        "id": "QV6A0dcDRsEy",
        "outputId": "8a7b2643-9d3f-4c5c-a394-050401b40e3f"
      },
      "execution_count": 5,
      "outputs": [
        {
          "output_type": "stream",
          "name": "stdout",
          "text": [
            "                  1 \n",
            "                1 2 A \n",
            "              1 2 3 B A \n",
            "            1 2 3 4 C B A \n",
            "          1 2 3 4 5 D C B A \n",
            "        1 2 3 4 5 6 E D C B A \n",
            "      1 2 3 4 5 6 7 F E D C B A \n",
            "    1 2 3 4 5 6 7 8 G F E D C B A \n",
            "  1 2 3 4 5 6 7 8 9 H G F E D C B A \n",
            "1 2 3 4 5 6 7 8 9 10 I H G F E D C B A \n"
          ]
        }
      ]
    },
    {
      "cell_type": "code",
      "source": [
        "\"\"\"\n",
        "Print the below shape on a console window [10 rows rhombus of incr-decr numbers]\n",
        "                  1\n",
        "                1 2 1\n",
        "              1 2 3 2 1\n",
        "            1 2 3 4 3 2 1\n",
        "          1 2 3 4 5 4 3 2 1\n",
        "        1 2 3 4 5 6 5 4 3 2 1\n",
        "      1 2 3 4 5 6 7 6 5 4 3 2 1\n",
        "    1 2 3 4 5 6 7 8 7 6 5 4 3 2 1\n",
        "  1 2 3 4 5 6 7 8 9 8 7 6 5 4 3 2 1\n",
        "1 2 3 4 5 6 7 8 9 10 9 8 7 6 5 4 3 2 1\n",
        "  1 2 3 4 5 6 7 8 9 8 7 6 5 4 3 2 1\n",
        "    1 2 3 4 5 6 7 8 7 6 5 4 3 2 1\n",
        "      1 2 3 4 5 6 7 6 5 4 3 2 1\n",
        "        1 2 3 4 5 6 5 4 3 2 1\n",
        "          1 2 3 4 5 4 3 2 1\n",
        "            1 2 3 4 3 2 1\n",
        "              1 2 3 2 1\n",
        "                1 2 1\n",
        "                  1\n",
        "\"\"\"\n",
        "for i in range(1, 11):\n",
        "  for j in range(1, 11 - i):\n",
        "    print(\" \", end = ' ')\n",
        "  for j in range(1, i + 1):\n",
        "    print(j, end = ' ')\n",
        "  for j in range(i - 1, 0, -1):\n",
        "    print(j, end = ' ')\n",
        "  print()\n",
        "for i in range(9, 0, -1):\n",
        "  for j in range(1, 11 - i):\n",
        "    print(\" \", end = ' ')\n",
        "  for j in range(1, i + 1):\n",
        "    print(j, end = ' ')\n",
        "  for j in range(i - 1, 0, -1):\n",
        "    print(j, end = ' ')\n",
        "  print()"
      ],
      "metadata": {
        "colab": {
          "base_uri": "https://localhost:8080/"
        },
        "id": "f1wjbltVRxGK",
        "outputId": "7109dd1a-48c8-44ba-e641-17442272a6d2"
      },
      "execution_count": 6,
      "outputs": [
        {
          "output_type": "stream",
          "name": "stdout",
          "text": [
            "                  1 \n",
            "                1 2 1 \n",
            "              1 2 3 2 1 \n",
            "            1 2 3 4 3 2 1 \n",
            "          1 2 3 4 5 4 3 2 1 \n",
            "        1 2 3 4 5 6 5 4 3 2 1 \n",
            "      1 2 3 4 5 6 7 6 5 4 3 2 1 \n",
            "    1 2 3 4 5 6 7 8 7 6 5 4 3 2 1 \n",
            "  1 2 3 4 5 6 7 8 9 8 7 6 5 4 3 2 1 \n",
            "1 2 3 4 5 6 7 8 9 10 9 8 7 6 5 4 3 2 1 \n",
            "  1 2 3 4 5 6 7 8 9 8 7 6 5 4 3 2 1 \n",
            "    1 2 3 4 5 6 7 8 7 6 5 4 3 2 1 \n",
            "      1 2 3 4 5 6 7 6 5 4 3 2 1 \n",
            "        1 2 3 4 5 6 5 4 3 2 1 \n",
            "          1 2 3 4 5 4 3 2 1 \n",
            "            1 2 3 4 3 2 1 \n",
            "              1 2 3 2 1 \n",
            "                1 2 1 \n",
            "                  1 \n"
          ]
        }
      ]
    },
    {
      "cell_type": "code",
      "source": [
        "n= 10\n",
        "for i in range(1, n+1):\n",
        "    for j in range(1, i+1):\n",
        "        print(j, end='')\n",
        "    if i==n:\n",
        "        print(\"9\" + \"1\", end='')\n",
        "    for j in range(i, 0, -1):\n",
        "        print(j, end='')\n",
        "    print()\n",
        "for i in range(n-1,0,-1 ):\n",
        "    for j in range(1, i+1):\n",
        "        print(j,end='')\n",
        "    for j in range(i,0,-1):\n",
        "        print(j, end='')\n",
        "    print()"
      ],
      "metadata": {
        "colab": {
          "base_uri": "https://localhost:8080/"
        },
        "id": "Myq7WVsAR2_p",
        "outputId": "cd340b5c-5895-4430-da25-115d8af4785e"
      },
      "execution_count": 7,
      "outputs": [
        {
          "output_type": "stream",
          "name": "stdout",
          "text": [
            "11\n",
            "1221\n",
            "123321\n",
            "12344321\n",
            "1234554321\n",
            "123456654321\n",
            "12345677654321\n",
            "1234567887654321\n",
            "123456789987654321\n",
            "123456789109110987654321\n",
            "123456789987654321\n",
            "1234567887654321\n",
            "12345677654321\n",
            "123456654321\n",
            "1234554321\n",
            "12344321\n",
            "123321\n",
            "1221\n",
            "11\n"
          ]
        }
      ]
    },
    {
      "cell_type": "code",
      "source": [],
      "metadata": {
        "id": "rP3wkZRSR5w0"
      },
      "execution_count": null,
      "outputs": []
    }
  ]
}