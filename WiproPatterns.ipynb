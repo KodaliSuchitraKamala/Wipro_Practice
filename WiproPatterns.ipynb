{
  "nbformat": 4,
  "nbformat_minor": 0,
  "metadata": {
    "colab": {
      "provenance": [],
      "authorship_tag": "ABX9TyNMhNpSHJzgcPRK3ItnNJ6k",
      "include_colab_link": true
    },
    "kernelspec": {
      "name": "python3",
      "display_name": "Python 3"
    },
    "language_info": {
      "name": "python"
    }
  },
  "cells": [
    {
      "cell_type": "markdown",
      "metadata": {
        "id": "view-in-github",
        "colab_type": "text"
      },
      "source": [
        "<a href=\"https://colab.research.google.com/github/KodaliSuchitraKamala/Wipro_Practice/blob/main/WiproPatterns.ipynb\" target=\"_parent\"><img src=\"https://colab.research.google.com/assets/colab-badge.svg\" alt=\"Open In Colab\"/></a>"
      ]
    },
    {
      "cell_type": "code",
      "execution_count": null,
      "metadata": {
        "id": "NrKU_F5rPbXe",
        "colab": {
          "base_uri": "https://localhost:8080/"
        },
        "outputId": "c987ad45-75bd-4821-98f0-bdfda817fc44"
      },
      "outputs": [
        {
          "output_type": "stream",
          "name": "stdout",
          "text": [
            "1 \n",
            "1 2 \n",
            "1 2 3 \n",
            "1 2 3 4 \n",
            "1 2 3 4 5 \n",
            "1 2 3 4 5 6 \n",
            "1 2 3 4 5 6 7 \n",
            "1 2 3 4 5 6 7 8 \n",
            "1 2 3 4 5 6 7 8 9 \n",
            "1 2 3 4 5 6 7 8 9 10 \n"
          ]
        }
      ],
      "source": [
        "\"\"\"\n",
        "Print the below shape on a console window [10 rows right-angled left justified numbers]\n",
        "1\n",
        "1 2\n",
        "1 2 3\n",
        "1 2 3 4\n",
        "1 2 3 4 5\n",
        "1 2 3 4 5 6\n",
        "1 2 3 4 5 6 7\n",
        "1 2 3 4 5 6 7 8\n",
        "1 2 3 4 5 6 7 8 9\n",
        "1 2 3 4 5 6 7 8 9 10\n",
        "\"\"\"\n",
        "for i in range(1, 11):\n",
        "  for j in range(1, i + 1):\n",
        "    print(j, end = ' ')\n",
        "  print()"
      ]
    },
    {
      "cell_type": "code",
      "source": [
        "\"\"\"\n",
        "Print the below shape on a console window [10 rows right-angled right justified stars]\n",
        "                  *\n",
        "                * *\n",
        "              * * *\n",
        "            * * * *\n",
        "          * * * * *\n",
        "        * * * * * *\n",
        "      * * * * * * *\n",
        "    * * * * * * * *\n",
        "  * * * * * * * * *\n",
        "* * * * * * * * * *\n",
        "\"\"\"\n",
        "for i in range(1, 11):\n",
        "  for j in range(1, 11 - i):\n",
        "    print(\" \", end = ' ')\n",
        "  for j in range(1, i + 1):\n",
        "    print(\"*\", end = ' ')\n",
        "  print()"
      ],
      "metadata": {
        "colab": {
          "base_uri": "https://localhost:8080/"
        },
        "id": "Eo-dfOMBQEUL",
        "outputId": "253b1cc7-47ae-4b7f-d0bf-0995e8882c3d"
      },
      "execution_count": null,
      "outputs": [
        {
          "output_type": "stream",
          "name": "stdout",
          "text": [
            "                  * \n",
            "                * * \n",
            "              * * * \n",
            "            * * * * \n",
            "          * * * * * \n",
            "        * * * * * * \n",
            "      * * * * * * * \n",
            "    * * * * * * * * \n",
            "  * * * * * * * * * \n",
            "* * * * * * * * * * \n"
          ]
        }
      ]
    },
    {
      "cell_type": "code",
      "source": [
        "\"\"\"\n",
        "Print the below shape on a console window [10 rows triangle of incr-decr numbers]\n",
        "                  1\n",
        "                1 2 1\n",
        "              1 2 3 2 1\n",
        "            1 2 3 4 3 2 1\n",
        "          1 2 3 4 5 4 3 2 1\n",
        "        1 2 3 4 5 6 5 4 3 2 1\n",
        "      1 2 3 4 5 6 7 6 5 4 3 2 1\n",
        "    1 2 3 4 5 6 7 8 7 6 5 4 3 2 1\n",
        "  1 2 3 4 5 6 7 8 9 8 7 6 5 4 3 2 1\n",
        "1 2 3 4 5 6 7 8 9 10 9 8 7 6 5 4 3 2 1\n",
        "\"\"\"\n",
        "for i in range(1, 11):\n",
        "  for j in range(1, 11 - i):\n",
        "    print(\" \", end = ' ')\n",
        "  for j in range(1, i + 1):\n",
        "    print(j, end = ' ')\n",
        "  for j in range(i - 1, 0, -1):\n",
        "    print(j, end = ' ')\n",
        "  print()"
      ],
      "metadata": {
        "colab": {
          "base_uri": "https://localhost:8080/"
        },
        "id": "qD75kCW-QHb5",
        "outputId": "5e3e050d-308a-4883-9563-17feec56c167"
      },
      "execution_count": null,
      "outputs": [
        {
          "output_type": "stream",
          "name": "stdout",
          "text": [
            "                  1 \n",
            "                1 2 1 \n",
            "              1 2 3 2 1 \n",
            "            1 2 3 4 3 2 1 \n",
            "          1 2 3 4 5 4 3 2 1 \n",
            "        1 2 3 4 5 6 5 4 3 2 1 \n",
            "      1 2 3 4 5 6 7 6 5 4 3 2 1 \n",
            "    1 2 3 4 5 6 7 8 7 6 5 4 3 2 1 \n",
            "  1 2 3 4 5 6 7 8 9 8 7 6 5 4 3 2 1 \n",
            "1 2 3 4 5 6 7 8 9 10 9 8 7 6 5 4 3 2 1 \n"
          ]
        }
      ]
    },
    {
      "cell_type": "code",
      "source": [
        "\"\"\"\n",
        "Print the below shape on a console window [10 rows reverse triangle of incr-decr numbers]\n",
        "1 2 3 4 5 6 7 8 9 10 9 8 7 6 5 4 3 2 1\n",
        "  1 2 3 4 5 6 7 8 9 8 7 6 5 4 3 2 1\n",
        "    1 2 3 4 5 6 7 8 7 6 5 4 3 2 1\n",
        "      1 2 3 4 5 6 7 6 5 4 3 2 1\n",
        "        1 2 3 4 5 6 5 4 3 2 1\n",
        "          1 2 3 4 5 4 3 2 1\n",
        "            1 2 3 4 3 2 1\n",
        "              1 2 3 2 1\n",
        "                1 2 1\n",
        "                  1\n",
        "\"\"\"\n",
        "for i in range(10, 0, -1):\n",
        "  for j in range(1, 11 - i):\n",
        "    print(\" \", end = ' ')\n",
        "  for j in range(1, i + 1):\n",
        "    print(j, end = ' ')\n",
        "  for j in range(i - 1, 0, -1):\n",
        "    print(j, end = ' ')\n",
        "  print()"
      ],
      "metadata": {
        "colab": {
          "base_uri": "https://localhost:8080/"
        },
        "id": "yRBgd69wRoDc",
        "outputId": "4ca91cfe-c0fe-45e5-c51c-2bec17ab39dd"
      },
      "execution_count": null,
      "outputs": [
        {
          "output_type": "stream",
          "name": "stdout",
          "text": [
            "1 2 3 4 5 6 7 8 9 10 9 8 7 6 5 4 3 2 1 \n",
            "  1 2 3 4 5 6 7 8 9 8 7 6 5 4 3 2 1 \n",
            "    1 2 3 4 5 6 7 8 7 6 5 4 3 2 1 \n",
            "      1 2 3 4 5 6 7 6 5 4 3 2 1 \n",
            "        1 2 3 4 5 6 5 4 3 2 1 \n",
            "          1 2 3 4 5 4 3 2 1 \n",
            "            1 2 3 4 3 2 1 \n",
            "              1 2 3 2 1 \n",
            "                1 2 1 \n",
            "                  1 \n"
          ]
        }
      ]
    },
    {
      "cell_type": "code",
      "source": [
        "\"\"\"\n",
        "Print the below shape on a console window [10 rows triangle of incr-nums decr-alphabets]\n",
        "                  1\n",
        "                1 2 A\n",
        "              1 2 3 B A\n",
        "            1 2 3 4 C B A\n",
        "          1 2 3 4 5 D C B A\n",
        "        1 2 3 4 5 6 E D C B A\n",
        "      1 2 3 4 5 6 7 F E D C B A\n",
        "    1 2 3 4 5 6 7 8 G F E D C B A\n",
        "  1 2 3 4 5 6 7 8 9 H G F E D C B A\n",
        "1 2 3 4 5 6 7 8 9 10 I H G F E D C B A\n",
        "\"\"\"\n",
        "for i in range(1, 11):\n",
        "  for j in range(1, 11 - i):\n",
        "    print(\" \", end = ' ')\n",
        "  for j in range(1, i + 1):\n",
        "    print(j, end = ' ')\n",
        "  for j in range(i - 1, 0, -1):\n",
        "    print(chr(j + 64), end = ' ')\n",
        "  print()"
      ],
      "metadata": {
        "colab": {
          "base_uri": "https://localhost:8080/"
        },
        "id": "QV6A0dcDRsEy",
        "outputId": "8a7b2643-9d3f-4c5c-a394-050401b40e3f"
      },
      "execution_count": null,
      "outputs": [
        {
          "output_type": "stream",
          "name": "stdout",
          "text": [
            "                  1 \n",
            "                1 2 A \n",
            "              1 2 3 B A \n",
            "            1 2 3 4 C B A \n",
            "          1 2 3 4 5 D C B A \n",
            "        1 2 3 4 5 6 E D C B A \n",
            "      1 2 3 4 5 6 7 F E D C B A \n",
            "    1 2 3 4 5 6 7 8 G F E D C B A \n",
            "  1 2 3 4 5 6 7 8 9 H G F E D C B A \n",
            "1 2 3 4 5 6 7 8 9 10 I H G F E D C B A \n"
          ]
        }
      ]
    },
    {
      "cell_type": "code",
      "source": [
        "\"\"\"\n",
        "Print the below shape on a console window [10 rows rhombus of incr-decr numbers]\n",
        "                  1\n",
        "                1 2 1\n",
        "              1 2 3 2 1\n",
        "            1 2 3 4 3 2 1\n",
        "          1 2 3 4 5 4 3 2 1\n",
        "        1 2 3 4 5 6 5 4 3 2 1\n",
        "      1 2 3 4 5 6 7 6 5 4 3 2 1\n",
        "    1 2 3 4 5 6 7 8 7 6 5 4 3 2 1\n",
        "  1 2 3 4 5 6 7 8 9 8 7 6 5 4 3 2 1\n",
        "1 2 3 4 5 6 7 8 9 10 9 8 7 6 5 4 3 2 1\n",
        "  1 2 3 4 5 6 7 8 9 8 7 6 5 4 3 2 1\n",
        "    1 2 3 4 5 6 7 8 7 6 5 4 3 2 1\n",
        "      1 2 3 4 5 6 7 6 5 4 3 2 1\n",
        "        1 2 3 4 5 6 5 4 3 2 1\n",
        "          1 2 3 4 5 4 3 2 1\n",
        "            1 2 3 4 3 2 1\n",
        "              1 2 3 2 1\n",
        "                1 2 1\n",
        "                  1\n",
        "\"\"\"\n",
        "for i in range(1, 11):\n",
        "  for j in range(1, 11 - i):\n",
        "    print(\" \", end = ' ')\n",
        "  for j in range(1, i + 1):\n",
        "    print(j, end = ' ')\n",
        "  for j in range(i - 1, 0, -1):\n",
        "    print(j, end = ' ')\n",
        "  print()\n",
        "for i in range(9, 0, -1):\n",
        "  for j in range(1, 11 - i):\n",
        "    print(\" \", end = ' ')\n",
        "  for j in range(1, i + 1):\n",
        "    print(j, end = ' ')\n",
        "  for j in range(i - 1, 0, -1):\n",
        "    print(j, end = ' ')\n",
        "  print()"
      ],
      "metadata": {
        "colab": {
          "base_uri": "https://localhost:8080/"
        },
        "id": "f1wjbltVRxGK",
        "outputId": "7109dd1a-48c8-44ba-e641-17442272a6d2"
      },
      "execution_count": null,
      "outputs": [
        {
          "output_type": "stream",
          "name": "stdout",
          "text": [
            "                  1 \n",
            "                1 2 1 \n",
            "              1 2 3 2 1 \n",
            "            1 2 3 4 3 2 1 \n",
            "          1 2 3 4 5 4 3 2 1 \n",
            "        1 2 3 4 5 6 5 4 3 2 1 \n",
            "      1 2 3 4 5 6 7 6 5 4 3 2 1 \n",
            "    1 2 3 4 5 6 7 8 7 6 5 4 3 2 1 \n",
            "  1 2 3 4 5 6 7 8 9 8 7 6 5 4 3 2 1 \n",
            "1 2 3 4 5 6 7 8 9 10 9 8 7 6 5 4 3 2 1 \n",
            "  1 2 3 4 5 6 7 8 9 8 7 6 5 4 3 2 1 \n",
            "    1 2 3 4 5 6 7 8 7 6 5 4 3 2 1 \n",
            "      1 2 3 4 5 6 7 6 5 4 3 2 1 \n",
            "        1 2 3 4 5 6 5 4 3 2 1 \n",
            "          1 2 3 4 5 4 3 2 1 \n",
            "            1 2 3 4 3 2 1 \n",
            "              1 2 3 2 1 \n",
            "                1 2 1 \n",
            "                  1 \n"
          ]
        }
      ]
    },
    {
      "cell_type": "code",
      "source": [
        "n= 10\n",
        "for i in range(1, n+1):\n",
        "    for j in range(1, i+1):\n",
        "        print(j, end='')\n",
        "    if i==n:\n",
        "        print(\"9\" + \"1\", end='')\n",
        "    for j in range(i, 0, -1):\n",
        "        print(j, end='')\n",
        "    print()\n",
        "for i in range(n-1,0,-1 ):\n",
        "    for j in range(1, i+1):\n",
        "        print(j,end='')\n",
        "    for j in range(i,0,-1):\n",
        "        print(j, end='')\n",
        "    print()"
      ],
      "metadata": {
        "colab": {
          "base_uri": "https://localhost:8080/"
        },
        "id": "Myq7WVsAR2_p",
        "outputId": "cd340b5c-5895-4430-da25-115d8af4785e"
      },
      "execution_count": null,
      "outputs": [
        {
          "output_type": "stream",
          "name": "stdout",
          "text": [
            "11\n",
            "1221\n",
            "123321\n",
            "12344321\n",
            "1234554321\n",
            "123456654321\n",
            "12345677654321\n",
            "1234567887654321\n",
            "123456789987654321\n",
            "123456789109110987654321\n",
            "123456789987654321\n",
            "1234567887654321\n",
            "12345677654321\n",
            "123456654321\n",
            "1234554321\n",
            "12344321\n",
            "123321\n",
            "1221\n",
            "11\n"
          ]
        }
      ]
    },
    {
      "cell_type": "code",
      "source": [],
      "metadata": {
        "id": "rP3wkZRSR5w0"
      },
      "execution_count": null,
      "outputs": []
    },
    {
      "cell_type": "code",
      "source": [
        "\"\"\"\n",
        "Print the following pattern for the given number of rows.\n",
        "Pattern for N = 4\n",
        "      1\n",
        "    2 3 2\n",
        "  3 4 5 4 3\n",
        "4 5 6 7 6 5 4\n",
        "The dots represent spaces.\n",
        "Detailed explanation ( Input/output format, Notes, Images )\n",
        "Constraints :\n",
        "0 <= N <= 50\n",
        "Sample Input 1:\n",
        "5\n",
        "Sample Output 1:\n",
        "           1\n",
        "          232\n",
        "         34543\n",
        "        4567654\n",
        "       567898765\n",
        "Sample Input 2:\n",
        "4\n",
        "Sample Output 2:\n",
        "           1\n",
        "          232\n",
        "         34543\n",
        "        4567654\n",
        "\"\"\"\n",
        "n = int(input(\"Enter the number: \"))\n",
        "currRow = 1\n",
        "while currRow <= n:\n",
        "\tspaces = 1\n",
        "\twhile spaces <= (n - currRow) :\n",
        "\t\tprint(\" \", end = \"\")\n",
        "\t\tspaces += 1\n",
        "\tcurrCol = 1\n",
        "\tvalToPrint = currRow\n",
        "\twhile currCol <= currRow :\n",
        "\t\tprint(valToPrint, end = \"\")\n",
        "\t\tvalToPrint += 1\n",
        "\t\tcurrCol += 1\n",
        "\tcurrCol = 1\n",
        "\tvalToPrint = 2 * currRow - 2\n",
        "\twhile currCol <= currRow - 1 :\n",
        "\t\tprint(valToPrint, end = \"\")\n",
        "\t\tvalToPrint -= 1\n",
        "\t\tcurrCol += 1\n",
        "\tprint()\n",
        "\tcurrRow += 1"
      ],
      "metadata": {
        "colab": {
          "base_uri": "https://localhost:8080/"
        },
        "outputId": "d8cf5291-7886-47a0-b0e3-56056e1b8eec",
        "id": "Bts54Kdmf9wk"
      },
      "execution_count": 3,
      "outputs": [
        {
          "output_type": "stream",
          "name": "stdout",
          "text": [
            "Enter the number: 4\n",
            "   1\n",
            "  232\n",
            " 34543\n",
            "4567654\n"
          ]
        }
      ]
    },
    {
      "cell_type": "code",
      "source": [
        "\"\"\"\n",
        "Problem statement\n",
        "Print the following pattern for the given N number of rows.\n",
        "Pattern for N = 4\n",
        "*\n",
        "**\n",
        "***\n",
        "****\n",
        "Note : There are no spaces between the stars (*).\n",
        "Detailed explanation ( Input/output format, Notes, Images )\n",
        "Constraints\n",
        "0 <= N <= 50\n",
        "Sample Input 1:\n",
        "5\n",
        "Sample Output 1:\n",
        "*\n",
        "**\n",
        "***\n",
        "****\n",
        "*****\n",
        "Sample Input 2:\n",
        "6\n",
        "Sample Output 2:\n",
        "*\n",
        "**\n",
        "***\n",
        "****\n",
        "*****\n",
        "******\n",
        "\"\"\"\n",
        "n = int(input(\"Enter the number: \"))\n",
        "for i in range(1, n + 1):\n",
        "  for j in range(1, i + 1):\n",
        "    print(\"*\", end = '')\n",
        "  print()"
      ],
      "metadata": {
        "colab": {
          "base_uri": "https://localhost:8080/"
        },
        "id": "tJb0H4s7dwJn",
        "outputId": "1db96488-5815-49a6-ecad-6e263c72388c"
      },
      "execution_count": 4,
      "outputs": [
        {
          "output_type": "stream",
          "name": "stdout",
          "text": [
            "Enter the number: 4\n",
            "*\n",
            "**\n",
            "***\n",
            "****\n"
          ]
        }
      ]
    },
    {
      "cell_type": "code",
      "source": [],
      "metadata": {
        "id": "TguG2oVQgC4I"
      },
      "execution_count": null,
      "outputs": []
    }
  ]
}