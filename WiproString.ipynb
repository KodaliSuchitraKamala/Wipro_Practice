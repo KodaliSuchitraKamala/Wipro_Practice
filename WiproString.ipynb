{
  "nbformat": 4,
  "nbformat_minor": 0,
  "metadata": {
    "colab": {
      "provenance": [],
      "authorship_tag": "ABX9TyP7GzEpe7tLqf0YiMKV6oqu",
      "include_colab_link": true
    },
    "kernelspec": {
      "name": "python3",
      "display_name": "Python 3"
    },
    "language_info": {
      "name": "python"
    }
  },
  "cells": [
    {
      "cell_type": "markdown",
      "metadata": {
        "id": "view-in-github",
        "colab_type": "text"
      },
      "source": [
        "<a href=\"https://colab.research.google.com/github/KodaliSuchitraKamala/Wipro_Practice/blob/main/WiproString.ipynb\" target=\"_parent\"><img src=\"https://colab.research.google.com/assets/colab-badge.svg\" alt=\"Open In Colab\"/></a>"
      ]
    },
    {
      "cell_type": "code",
      "execution_count": 1,
      "metadata": {
        "colab": {
          "base_uri": "https://localhost:8080/"
        },
        "id": "gEgDvZ57dEHh",
        "outputId": "32b66897-4de5-4600-ce47-996c21dd94a3"
      },
      "outputs": [
        {
          "output_type": "stream",
          "name": "stdout",
          "text": [
            "Enter the string: Suchitra\n",
            "The length of the string is: 8\n"
          ]
        }
      ],
      "source": [
        "\"\"\"\n",
        "Design the algorithm to accept a string from the user and calculate its length.\n",
        "\"\"\"\n",
        "string = input(\"Enter the string: \")\n",
        "print(f\"The length of the string is: {len(string)}\")"
      ]
    },
    {
      "cell_type": "code",
      "source": [
        "\"\"\"\n",
        "Design an algorithm from the user. Reverse the string and display it\n",
        "\"\"\"\n",
        "string = input(\"Enter the string: \")\n",
        "print(f\"The reversed string is: {string[::-1]}\")"
      ],
      "metadata": {
        "colab": {
          "base_uri": "https://localhost:8080/"
        },
        "id": "57IIOjUufXrr",
        "outputId": "475d4182-b389-4233-c00d-d1e00000b243"
      },
      "execution_count": 2,
      "outputs": [
        {
          "output_type": "stream",
          "name": "stdout",
          "text": [
            "Enter the string: Suchitra\n",
            "The reversed string is: artihcuS\n"
          ]
        }
      ]
    },
    {
      "cell_type": "code",
      "source": [
        "\"\"\"\n",
        "Design an algorithm to accept a string from the user. Replace all vowels ('a', 'e', 'i', 'o', 'u') with 'z'.\n",
        "If there are no vowels in the string, just print the original words with the message \"No vowels present\".\n",
        "\"\"\"\n",
        "string = input(\"Enter the string: \")\n",
        "vowels = \"aeiouAEIOU\"\n",
        "for i in range(len(vowels)):\n",
        "  if vowels[i] in string:\n",
        "    string = string.replace(vowels[i], 'z')\n",
        "else:\n",
        "  print(\"No vowels present\")\n",
        "print(f\"The new string is: {string}\")"
      ],
      "metadata": {
        "colab": {
          "base_uri": "https://localhost:8080/"
        },
        "id": "3NJ_ooIuf6Nc",
        "outputId": "3b699d2e-9e6d-451f-9215-39ee7672fffe"
      },
      "execution_count": 4,
      "outputs": [
        {
          "output_type": "stream",
          "name": "stdout",
          "text": [
            "Enter the string: Suchitra\n",
            "No vowels present\n",
            "The new string is: Szchztrz\n"
          ]
        }
      ]
    },
    {
      "cell_type": "code",
      "source": [
        "\"\"\"\n",
        "Design an algorithm to accept 2 string (string 1 and string 2) from the user.\n",
        "Concatenate both the strings into the third string \"string 3\" and print the result.\n",
        "Example-\n",
        "string1 = \"Hello\"\n",
        "string2 = \"World\"\n",
        "string3 must be \"HelloWorld\"\n",
        "\"\"\"\n",
        "str1 = input(\"Enter the first string: \")\n",
        "str2 = input(\"Enter the second string:\")\n",
        "str3 = str1 + str2\n",
        "print(f\"The concatenated string: {str3}\")"
      ],
      "metadata": {
        "colab": {
          "base_uri": "https://localhost:8080/"
        },
        "id": "u5GJInb9h9lr",
        "outputId": "524e3a7b-2e06-475e-9786-04fc3c786856"
      },
      "execution_count": 5,
      "outputs": [
        {
          "output_type": "stream",
          "name": "stdout",
          "text": [
            "Enter the first string: Hello\n",
            "Enter the second string:World\n",
            "The concatenated string: HelloWorld\n"
          ]
        }
      ]
    },
    {
      "cell_type": "code",
      "source": [
        "\"\"\"\n",
        "Design an algorithm to accept a string from the user. Count and print the number\n",
        "of times each character occurs in the given string.\n",
        "Example-\n",
        "input string = \"malayalam\"\n",
        "m - 2\n",
        "a - 4\n",
        "l - 2\n",
        "y - 1\n",
        "\"\"\"\n",
        "string = input(\"Enter the string: \")\n",
        "char_count = {}\n",
        "for char in string:\n",
        "  if char in char_count:\n",
        "    char_count[char] += 1\n",
        "  else:\n",
        "    char_count[char] = 1\n",
        "print(f\"The count each character in string is: {char_count}\")"
      ],
      "metadata": {
        "colab": {
          "base_uri": "https://localhost:8080/"
        },
        "id": "O0XCqbX9juR8",
        "outputId": "3c57a416-aac8-45e2-d2ba-19e565c9b803"
      },
      "execution_count": 7,
      "outputs": [
        {
          "output_type": "stream",
          "name": "stdout",
          "text": [
            "Enter the string: malayalam\n",
            "The count each character in string is: {'m': 2, 'a': 4, 'l': 2, 'y': 1}\n"
          ]
        }
      ]
    },
    {
      "cell_type": "code",
      "source": [
        "\"\"\"\n",
        "Design an algorithm which accepts 2 strings from the user and performs the following\n",
        "operations on it.\n",
        "Example:\n",
        "string1 = \"Hello\"\n",
        "string2 = \"World\"\n",
        "string3 must be \"HellodlroW\"\n",
        "\"\"\"\n",
        "str1 = input(\"Enter the first string: \")\n",
        "str2 = input(\"Enter the second string:\")\n",
        "str3 = str1 + str2[::-1]\n",
        "print(f\"The Final string is: {str3}\")"
      ],
      "metadata": {
        "colab": {
          "base_uri": "https://localhost:8080/"
        },
        "id": "-a5MjlK5lVjd",
        "outputId": "398dfbb8-b4b8-4042-92f1-03e095615e36"
      },
      "execution_count": 8,
      "outputs": [
        {
          "output_type": "stream",
          "name": "stdout",
          "text": [
            "Enter the first string: Hello\n",
            "Enter the second string:World\n",
            "The Final string is: HellodlroW\n"
          ]
        }
      ]
    },
    {
      "cell_type": "code",
      "source": [],
      "metadata": {
        "id": "aDV_eCngmtYl"
      },
      "execution_count": null,
      "outputs": []
    }
  ]
}