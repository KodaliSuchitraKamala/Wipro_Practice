{
  "nbformat": 4,
  "nbformat_minor": 0,
  "metadata": {
    "colab": {
      "provenance": [],
      "authorship_tag": "ABX9TyNo8HiIuApAujjZ/0sIS0oc",
      "include_colab_link": true
    },
    "kernelspec": {
      "name": "python3",
      "display_name": "Python 3"
    },
    "language_info": {
      "name": "python"
    }
  },
  "cells": [
    {
      "cell_type": "markdown",
      "metadata": {
        "id": "view-in-github",
        "colab_type": "text"
      },
      "source": [
        "<a href=\"https://colab.research.google.com/github/KodaliSuchitraKamala/Wipro_Practice/blob/main/WiproLoops.ipynb\" target=\"_parent\"><img src=\"https://colab.research.google.com/assets/colab-badge.svg\" alt=\"Open In Colab\"/></a>"
      ]
    },
    {
      "cell_type": "code",
      "execution_count": 1,
      "metadata": {
        "colab": {
          "base_uri": "https://localhost:8080/"
        },
        "id": "OD6mU4UMS2Ky",
        "outputId": "bfce696b-63ca-4527-a785-b0b120200996"
      },
      "outputs": [
        {
          "output_type": "stream",
          "name": "stdout",
          "text": [
            "Enter the number: 12345\n",
            "The no.of digits present in the number is 5\n"
          ]
        }
      ],
      "source": [
        "\"\"\"\n",
        "Design an algorithm to count the number of digits in a given number.\n",
        "Example:\n",
        "if the number entered is 12345\n",
        "the output is 5 digits\n",
        "\"\"\"\n",
        "n = input(\"Enter the number: \")\n",
        "count = 0\n",
        "for i in range(len(n)):\n",
        "  count += 1\n",
        "print(f\"The no.of digits present in the number is {count}\")"
      ]
    },
    {
      "cell_type": "code",
      "source": [
        "\"\"\"\n",
        "Design an algorithm to find the sum of all the digits in a given number.\n",
        "Example:\n",
        "if the number entered is 12345\n",
        "the output is 15\n",
        "\"\"\"\n",
        "n = input(\"Enter the number: \")\n",
        "sum = 0\n",
        "for i in range(len(n)):\n",
        "  sum += int(n[i])\n",
        "print(f\"The sum of all the digits in a given number is {sum}\")"
      ],
      "metadata": {
        "colab": {
          "base_uri": "https://localhost:8080/"
        },
        "id": "eIztY2r3UXWO",
        "outputId": "1c411272-c973-404b-b05f-a865272b9892"
      },
      "execution_count": 3,
      "outputs": [
        {
          "output_type": "stream",
          "name": "stdout",
          "text": [
            "Enter the number: 12345\n",
            "The sum of all the digits in a given number is 15\n"
          ]
        }
      ]
    },
    {
      "cell_type": "code",
      "source": [
        "\"\"\"\n",
        "Design an algorithm which accepts a decimal integer and then displays its corresponding binary representation.\n",
        "\"\"\"\n",
        "n = int(input(\"Enter the decimal Integer: \"))\n",
        "print(bin(n))"
      ],
      "metadata": {
        "colab": {
          "base_uri": "https://localhost:8080/"
        },
        "id": "hYNzhQ3cVNFZ",
        "outputId": "57aee107-7b55-4990-aee4-5a06c1125815"
      },
      "execution_count": 4,
      "outputs": [
        {
          "output_type": "stream",
          "name": "stdout",
          "text": [
            "Enter the decimal Integer: 2\n",
            "0b10\n"
          ]
        }
      ]
    },
    {
      "cell_type": "code",
      "source": [
        "\"\"\"\n",
        "Design an algorithm which accepts a binary representation of a number and then displays its corresponding decimal equivalent.\n",
        "\"\"\"\n",
        "n = input(\"Enter the binary representation: \")\n",
        "print(int(n, 2))"
      ],
      "metadata": {
        "colab": {
          "base_uri": "https://localhost:8080/"
        },
        "id": "UXYteOphV49O",
        "outputId": "5eb9256c-07ca-4fc1-9f8a-2be89f9a3056"
      },
      "execution_count": 8,
      "outputs": [
        {
          "output_type": "stream",
          "name": "stdout",
          "text": [
            "Enter the binary representation: 0b10\n",
            "2\n"
          ]
        }
      ]
    },
    {
      "cell_type": "code",
      "source": [
        "\"\"\"\n",
        "Design an algorithm which accepts a number from the user and displays its smallest extact divisor other then one.\n",
        "\"\"\"\n",
        "n = int(input(\"Enter the number: \"))\n",
        "if n <= 1:\n",
        "  print(\"Nothing\")\n",
        "for i in range(2, n + 1):\n",
        "  if n % i == 0:\n",
        "    print(i)\n",
        "    break"
      ],
      "metadata": {
        "colab": {
          "base_uri": "https://localhost:8080/"
        },
        "id": "tyfOcjTSWt6q",
        "outputId": "4e0e695e-ee34-410c-c16a-ff262f010d19"
      },
      "execution_count": 17,
      "outputs": [
        {
          "output_type": "stream",
          "name": "stdout",
          "text": [
            "Enter the number: 24\n",
            "2\n"
          ]
        }
      ]
    },
    {
      "cell_type": "code",
      "source": [],
      "metadata": {
        "id": "NBxgvc0IYKSL"
      },
      "execution_count": null,
      "outputs": []
    }
  ]
}