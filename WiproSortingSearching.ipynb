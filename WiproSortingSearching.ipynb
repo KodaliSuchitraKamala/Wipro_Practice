{
  "nbformat": 4,
  "nbformat_minor": 0,
  "metadata": {
    "colab": {
      "provenance": [],
      "authorship_tag": "ABX9TyNJTv3J8+7tHBa3qveWAHhJ",
      "include_colab_link": true
    },
    "kernelspec": {
      "name": "python3",
      "display_name": "Python 3"
    },
    "language_info": {
      "name": "python"
    }
  },
  "cells": [
    {
      "cell_type": "markdown",
      "metadata": {
        "id": "view-in-github",
        "colab_type": "text"
      },
      "source": [
        "<a href=\"https://colab.research.google.com/github/KodaliSuchitraKamala/Wipro_Practice/blob/main/WiproSortingSearching.ipynb\" target=\"_parent\"><img src=\"https://colab.research.google.com/assets/colab-badge.svg\" alt=\"Open In Colab\"/></a>"
      ]
    },
    {
      "cell_type": "code",
      "execution_count": 4,
      "metadata": {
        "colab": {
          "base_uri": "https://localhost:8080/"
        },
        "id": "NOG8_Z1QnFbu",
        "outputId": "45b8504d-82bd-499b-a310-cc759bc744f4"
      },
      "outputs": [
        {
          "output_type": "stream",
          "name": "stdout",
          "text": [
            "Enter the numbers of first array: 32 43 65 23 65 23\n",
            "Enter the numbers of second array: 23 54 34 12 65 23 76 34 32 45 32\n",
            "The element of 2 arrays after merging are: [23, 23, 32, 43, 65, 65, 12, 23, 23, 32, 32, 34, 34, 45, 54, 65, 76]\n"
          ]
        }
      ],
      "source": [
        "\"\"\"\n",
        "Design an algorithm to accept 2 arrays of elements (which are given below. The elements\n",
        "of these 2 arrays are already sorted in ascending order) and merge them into one.\n",
        "All elements of the merged array must be in ascending order.\n",
        "\"\"\"\n",
        "arr1 = list(map(int, input(\"Enter the numbers of first array: \").split()))\n",
        "arr2 = list(map(int, input(\"Enter the numbers of second array: \").split()))\n",
        "arr1.sort()\n",
        "arr2.sort()\n",
        "arr3 = arr1 + arr2\n",
        "print(f\"The element of 2 arrays after merging are: {arr3}\")"
      ]
    },
    {
      "cell_type": "code",
      "source": [
        "\"\"\"\n",
        "Design an algorithm to accept 5 integers for an array and sort them into ascending order\n",
        "\"\"\"\n",
        "arr = [int(x) for x in input(\"Enter the numbers: \").split()]\n",
        "arr.sort()\n",
        "print(f\"The sorted array of the 5 integers are: {arr}\")"
      ],
      "metadata": {
        "colab": {
          "base_uri": "https://localhost:8080/"
        },
        "id": "uLEf8cn9q8Ej",
        "outputId": "94c285fc-f5fc-4c46-cbc4-3deb981d1cec"
      },
      "execution_count": 11,
      "outputs": [
        {
          "output_type": "stream",
          "name": "stdout",
          "text": [
            "Enter the numbers: 44 23 65 21 87\n",
            "The sorted array of the 5 integers are: [21, 23, 44, 65, 87]\n"
          ]
        }
      ]
    },
    {
      "cell_type": "code",
      "source": [
        "\"\"\"\n",
        "Design an algorithm to accept 10 integer elements for an array and rearange the\n",
        "elements in descending order. The new array must be printed to the user.\n",
        "\"\"\"\n",
        "arr = [int(x) for x in input(\"Enter the numbers: \").split()]\n",
        "arr.sort()\n",
        "arr.reverse()\n",
        "print(f\"The sorted array of the 10 integers are: {arr}\")"
      ],
      "metadata": {
        "colab": {
          "base_uri": "https://localhost:8080/"
        },
        "id": "VgX3dm21tjKC",
        "outputId": "b6a4137b-ee53-42c6-e56c-5e9a7b299c60"
      },
      "execution_count": 12,
      "outputs": [
        {
          "output_type": "stream",
          "name": "stdout",
          "text": [
            "Enter the numbers: 35 23 76 12 89 43 56 23 43 65\n",
            "The sorted array of the 10 integers are: [89, 76, 65, 56, 43, 43, 35, 23, 23, 12]\n"
          ]
        }
      ]
    },
    {
      "cell_type": "code",
      "source": [
        "\"\"\"\n",
        "Design an algorithm to remove all duplicate elements from an ordered array (may be\n",
        "ascending or descending) and contract the array accordingly.\n",
        "Example\n",
        "input array is-\n",
        "2 4 2 5 3 4 6 5 1 7\n",
        "After ordering-\n",
        "1 2 2 3 4 4 5 5 6 7\n",
        "Ouput array must be-\n",
        "1 2 3 4 5 6 7\n",
        "\"\"\"\n",
        "arr = [int(x) for x in input(\"Enter the numbers: \").split()]\n",
        "arr.sort()\n",
        "print(f\"The sorted array of before removing duplicates are: {arr}\")\n",
        "print(f\"The sorted array of after removing duplicates are: {set(arr)}\")"
      ],
      "metadata": {
        "colab": {
          "base_uri": "https://localhost:8080/"
        },
        "id": "hRR4i5JKvo4N",
        "outputId": "2f722235-ae26-4686-d462-e828f21263dd"
      },
      "execution_count": 13,
      "outputs": [
        {
          "output_type": "stream",
          "name": "stdout",
          "text": [
            "Enter the numbers: 2 4 2 5 3 4 6 5 1 7\n",
            "The sorted array of before removing duplicates are: [1, 2, 2, 3, 4, 4, 5, 5, 6, 7]\n",
            "The sorted array of after removing duplicates are: {1, 2, 3, 4, 5, 6, 7}\n"
          ]
        }
      ]
    },
    {
      "cell_type": "code",
      "source": [
        "\"\"\"\n",
        "Design an algorithm to accept 25 integer elements for an array. Then find the number\n",
        "with the maximum value in the set and the position.\n",
        " - where it occurs first\n",
        " - where it occurs last\n",
        "\"\"\"\n",
        "arr = [int(x) for x in input(\"Enter the numbers: \").split()]\n",
        "arr_max = max(arr)\n",
        "pos=[]\n",
        "for i in range(len(arr)):\n",
        "  if arr[i]==arr_max:\n",
        "    pos.append(i)\n",
        "print(f\"The index of the first occurrence of the maximum value in the set is: {pos[0]}\")\n",
        "print(f\"The index of the last occurrence of the maximum value in the set is: {pos[-1]}\")"
      ],
      "metadata": {
        "colab": {
          "base_uri": "https://localhost:8080/"
        },
        "id": "DbGkkPEDxtti",
        "outputId": "6c9578ec-a597-4208-d250-692ac70b1cf2"
      },
      "execution_count": 22,
      "outputs": [
        {
          "output_type": "stream",
          "name": "stdout",
          "text": [
            "Enter the numbers: 53 34 23 6 12 76 3 34 56 23 45 23 45 32 67 34 67 23 7 34 65 32 56 43 76\n",
            "The index of the first occurrence of the maximum value in the set is: 5\n",
            "The index of the last occurrence of the maximum value in the set is: 24\n"
          ]
        }
      ]
    },
    {
      "cell_type": "code",
      "source": [
        "\"\"\"\n",
        "Design an algorithm to find the position of a number x (entered by user and if it\n",
        "occurs) in an array of 15 elements. Array elements are also entered by the user.\n",
        "\"\"\"\n",
        "arr = [int(x) for x in input(\"Enter the numbers: \").split()]\n",
        "x = int(input(\"Enter the number to find its position: \"))\n",
        "if x in arr:\n",
        "  print(f\"The position of {x} in the array is: {arr.index(x)}\")\n",
        "else:\n",
        "  print(f\"{x} is not in an array\")"
      ],
      "metadata": {
        "colab": {
          "base_uri": "https://localhost:8080/"
        },
        "id": "CeP8kqjoz8Qv",
        "outputId": "cc797670-c128-4256-a161-0bef1c2f41ac"
      },
      "execution_count": 18,
      "outputs": [
        {
          "output_type": "stream",
          "name": "stdout",
          "text": [
            "Enter the numbers: 53 34 23 6 12 76 3 34 56 23 45 23 45 32 67\n",
            "Enter the number to find its position: 12\n",
            "The position of 12 in the array is: 4\n"
          ]
        }
      ]
    },
    {
      "cell_type": "code",
      "source": [
        "\"\"\"\n",
        "Design an algorithm  to accept elements for 2 random arrays. Rearrange the array\n",
        "elements in descending order then merge them in form of one array.\n",
        "\"\"\"\n",
        "arr1 = list(map(int, input(\"Enter the numbers of first array: \").split()))\n",
        "arr2 = list(map(int, input(\"Enter the numbers of second array: \").split()))\n",
        "arr1.sort()\n",
        "arr1.reverse()\n",
        "arr2.sort()\n",
        "arr2.reverse()\n",
        "arr3 = arr1 + arr2\n",
        "print(f\"The element of 2 arrays after sorting into descending order and then merging are: {arr3}\")"
      ],
      "metadata": {
        "colab": {
          "base_uri": "https://localhost:8080/"
        },
        "id": "h58NSJIg2MgR",
        "outputId": "87c16784-cc69-4d69-c37a-bafe69b548ab"
      },
      "execution_count": 19,
      "outputs": [
        {
          "output_type": "stream",
          "name": "stdout",
          "text": [
            "Enter the numbers of first array: 32 43 65 23 65 23\n",
            "Enter the numbers of second array: 23 54 34 12 65 23 76 34 32 45 32\n",
            "The element of 2 arrays after sorting into descending order and then merging are: [65, 65, 43, 32, 23, 23, 76, 65, 54, 45, 34, 34, 32, 32, 23, 23, 12]\n"
          ]
        }
      ]
    },
    {
      "cell_type": "code",
      "source": [],
      "metadata": {
        "id": "4TFaDUVM3XrD"
      },
      "execution_count": null,
      "outputs": []
    }
  ]
}