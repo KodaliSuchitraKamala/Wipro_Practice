{
  "nbformat": 4,
  "nbformat_minor": 0,
  "metadata": {
    "colab": {
      "provenance": [],
      "authorship_tag": "ABX9TyM3twqOWnDglaZJu9tf997U",
      "include_colab_link": true
    },
    "kernelspec": {
      "name": "python3",
      "display_name": "Python 3"
    },
    "language_info": {
      "name": "python"
    }
  },
  "cells": [
    {
      "cell_type": "markdown",
      "metadata": {
        "id": "view-in-github",
        "colab_type": "text"
      },
      "source": [
        "<a href=\"https://colab.research.google.com/github/KodaliSuchitraKamala/Wipro_Practice/blob/main/WiproBasics.ipynb\" target=\"_parent\"><img src=\"https://colab.research.google.com/assets/colab-badge.svg\" alt=\"Open In Colab\"/></a>"
      ]
    },
    {
      "cell_type": "code",
      "execution_count": null,
      "metadata": {
        "colab": {
          "base_uri": "https://localhost:8080/"
        },
        "id": "U7SJL8Z34zzO",
        "outputId": "f0cc8a09-0c6b-494a-d193-115ec58e0c07"
      },
      "outputs": [
        {
          "output_type": "stream",
          "name": "stdout",
          "text": [
            "Enter first number: 10\n",
            "Enter second number: 20\n",
            "Enter third number: 30\n",
            "Before Swapping\n",
            "10 20 30\n",
            "After Swapping\n",
            "30 10 20\n"
          ]
        }
      ],
      "source": [
        "\"\"\" Circular Swapping \"\"\"\n",
        "a = int(input(\"Enter first number: \"))\n",
        "b = int(input(\"Enter second number: \"))\n",
        "c = int(input(\"Enter third number: \"))\n",
        "print(\"Before Swapping\")\n",
        "print(a, b, c)\n",
        "a, b, c = c, a, b\n",
        "print(\"After Swapping\")\n",
        "print(a, b, c)"
      ]
    },
    {
      "cell_type": "code",
      "source": [
        "\"\"\" Given a set students examination(in range of 0 to 100) make count from\n",
        " number of student that have passed the exam. A passed is awarded if the\n",
        " students marks is greater than equals to 35 \"\"\"\n",
        "n = int(input(\"Number of students: \"))\n",
        "stu = [int(x) for x in input(\"Enter the students marks: \").split()]\n",
        "count = 0\n",
        "for i in range(n):\n",
        "  if stu[i] >= 35:\n",
        "    count += 1\n",
        "print(\"No.of students passed are: \", count)"
      ],
      "metadata": {
        "colab": {
          "base_uri": "https://localhost:8080/"
        },
        "id": "ZWsEnW6b5QbV",
        "outputId": "a43437a8-49cc-4dfa-e22e-5052966dfcf0"
      },
      "execution_count": null,
      "outputs": [
        {
          "output_type": "stream",
          "name": "stdout",
          "text": [
            "Number of students: 2\n",
            "Enter the students marks: 32 45\n",
            "No.of students passed are:  1\n"
          ]
        }
      ]
    },
    {
      "cell_type": "code",
      "source": [
        "\"\"\" Design a algorthm that reads a list of 5 numbers (both +ve and -ve) and makes a\n",
        "count of the numbers of negative and non-negeive in the list\n",
        "Note - 0 must be postive in the algorthm \"\"\"\n",
        "n = int(input(\"Enter the number of elements: \"))\n",
        "lst = [int(x) for x in input(\"Enter the integers: \").split()]\n",
        "count = 0\n",
        "for i in range(n):\n",
        "  if lst[i] >= 0:\n",
        "    count += 1\n",
        "print(\"No.of Non-Negetives Numbers: \", count)\n",
        "print(\"No.of Negetives: \", n-count)"
      ],
      "metadata": {
        "colab": {
          "base_uri": "https://localhost:8080/"
        },
        "id": "DZARvYEm9RjP",
        "outputId": "fb65cb13-d5cd-451d-ce7b-331c4df35e07"
      },
      "execution_count": null,
      "outputs": [
        {
          "output_type": "stream",
          "name": "stdout",
          "text": [
            "Enter the number of elements: 3\n",
            "Enter the integers: 23 -32 42\n",
            "No.of Non-Negetives Numbers:  2\n",
            "No.of Negetives:  1\n"
          ]
        }
      ]
    },
    {
      "cell_type": "code",
      "source": [
        "\"\"\" Design an algorithm that reads a number from user and us if it is even or\n",
        "odd or zero \"\"\"\n",
        "n = int(input(\"Enter a number: \"))\n",
        "if n == 0:\n",
        "  print(\"Zero\")\n",
        "elif n % 2 == 0:\n",
        "  print(\"Even\")\n",
        "else:\n",
        "  print(\"Odd\")"
      ],
      "metadata": {
        "colab": {
          "base_uri": "https://localhost:8080/"
        },
        "id": "cVKfSOxWCsje",
        "outputId": "7eb3ab4d-9b1c-4e4d-f756-202033c4a1bc"
      },
      "execution_count": null,
      "outputs": [
        {
          "output_type": "stream",
          "name": "stdout",
          "text": [
            "Enter a number: 23\n",
            "Odd\n"
          ]
        }
      ]
    },
    {
      "cell_type": "code",
      "source": [
        "\"\"\" Given a set of 3 numbers, design an algorithm that adds these numbers and\n",
        "resultant sum \"\"\"\n",
        "n = int(input(\"Number of students: \"))\n",
        "stu = [int(x) for x in input(\"Enter the students marks: \").split()]\n",
        "count = 0\n",
        "for i in range(n):\n",
        "  if stu[i] >= 35:\n",
        "    count += 1\n",
        "print(\"No.of students passed are: \", count)"
      ],
      "metadata": {
        "id": "-G1AhLolDzbV",
        "colab": {
          "base_uri": "https://localhost:8080/"
        },
        "outputId": "1ff7cfc9-4160-49ef-e8d7-155779471042"
      },
      "execution_count": null,
      "outputs": [
        {
          "output_type": "stream",
          "name": "stdout",
          "text": [
            "Number of students: 2\n",
            "Enter the students marks: 2 434\n",
            "No.of students passed are:  1\n"
          ]
        }
      ]
    },
    {
      "cell_type": "code",
      "source": [
        "\"\"\" Write a Program to accept two numbers and print whether their sum is even or odd \"\"\"\n",
        "a = int(input(\"Enter first number: \"))\n",
        "b = int(input(\"Enter second number: \"))\n",
        "sum = a + b\n",
        "if sum % 2 == 0:\n",
        "  print(f\"the addition of {a} and {b} is {sum} which is equal to Even\")\n",
        "else:\n",
        "  print(f\"the addition of {a} and {b} is {sum} which is equal to Odd\")"
      ],
      "metadata": {
        "colab": {
          "base_uri": "https://localhost:8080/"
        },
        "id": "iMlcyuxhdO7K",
        "outputId": "08814906-2ebc-41d7-d846-83adfe481467"
      },
      "execution_count": null,
      "outputs": [
        {
          "output_type": "stream",
          "name": "stdout",
          "text": [
            "Enter first number: 23\n",
            "Enter second number: 24\n",
            "the addition of 23 and 24 is 47 which is equal to Odd\n"
          ]
        }
      ]
    },
    {
      "cell_type": "code",
      "source": [
        "\"\"\" Write a Program to print all numbers from 1 to 100 \"\"\"\n",
        "for i in range(1, 101):\n",
        "  print(i, end = ' ')"
      ],
      "metadata": {
        "colab": {
          "base_uri": "https://localhost:8080/"
        },
        "id": "bQsRCZkxdOy2",
        "outputId": "634ddc6e-4b6e-448c-efbb-7d88a0c46294"
      },
      "execution_count": null,
      "outputs": [
        {
          "output_type": "stream",
          "name": "stdout",
          "text": [
            "1 2 3 4 5 6 7 8 9 10 11 12 13 14 15 16 17 18 19 20 21 22 23 24 25 26 27 28 29 30 31 32 33 34 35 36 37 38 39 40 41 42 43 44 45 46 47 48 49 50 51 52 53 54 55 56 57 58 59 60 61 62 63 64 65 66 67 68 69 70 71 72 73 74 75 76 77 78 79 80 81 82 83 84 85 86 87 88 89 90 91 92 93 94 95 96 97 98 99 100 "
          ]
        }
      ]
    },
    {
      "cell_type": "code",
      "source": [
        "\"\"\" Write a Program to print alternate numbers starting from 1 to 99 \"\"\"\n",
        "for i in range (1, 100, 2):\n",
        "  print(i, end = \" \")"
      ],
      "metadata": {
        "colab": {
          "base_uri": "https://localhost:8080/"
        },
        "id": "4nbQL5C_jvtP",
        "outputId": "92061375-6b8e-4365-9ae5-ab0faaa0552a"
      },
      "execution_count": null,
      "outputs": [
        {
          "output_type": "stream",
          "name": "stdout",
          "text": [
            "1 3 5 7 9 11 13 15 17 19 21 23 25 27 29 31 33 35 37 39 41 43 45 47 49 51 53 55 57 59 61 63 65 67 69 71 73 75 77 79 81 83 85 87 89 91 93 95 97 99 "
          ]
        }
      ]
    },
    {
      "cell_type": "code",
      "source": [
        "\"\"\" Write a Program to print alternate numbers starting from 0 to 100 \"\"\"\n",
        "for i in range(0, 101, 2):\n",
        "  print(i, end = ' ')"
      ],
      "metadata": {
        "colab": {
          "base_uri": "https://localhost:8080/"
        },
        "id": "YMPL-LNwkJWl",
        "outputId": "cc14aabb-c188-4b69-ae25-daba57fcc5f8"
      },
      "execution_count": null,
      "outputs": [
        {
          "output_type": "stream",
          "name": "stdout",
          "text": [
            "0 2 4 6 8 10 12 14 16 18 20 22 24 26 28 30 32 34 36 38 40 42 44 46 48 50 52 54 56 58 60 62 64 66 68 70 72 74 76 78 80 82 84 86 88 90 92 94 96 98 100 "
          ]
        }
      ]
    },
    {
      "cell_type": "code",
      "source": [
        "\"\"\" Write a program to print all numbers backwards from 100 to 0 \"\"\"\n",
        "for i in range(100, -1, -1):\n",
        "  print(i, end = ' ')"
      ],
      "metadata": {
        "colab": {
          "base_uri": "https://localhost:8080/"
        },
        "id": "68T2oagFkKic",
        "outputId": "889b7e40-5bdd-4a6e-fae7-74a6e44e6fbc"
      },
      "execution_count": null,
      "outputs": [
        {
          "output_type": "stream",
          "name": "stdout",
          "text": [
            "100 99 98 97 96 95 94 93 92 91 90 89 88 87 86 85 84 83 82 81 80 79 78 77 76 75 74 73 72 71 70 69 68 67 66 65 64 63 62 61 60 59 58 57 56 55 54 53 52 51 50 49 48 47 46 45 44 43 42 41 40 39 38 37 36 35 34 33 32 31 30 29 28 27 26 25 24 23 22 21 20 19 18 17 16 15 14 13 12 11 10 9 8 7 6 5 4 3 2 1 0 "
          ]
        }
      ]
    },
    {
      "cell_type": "code",
      "source": [
        "\"\"\" Write a program to print numbers backwards from 100 to 1 skipping 3 numbers \"\"\"\n",
        "for i in range(100, 0, -3):\n",
        "  print(i, end = ' ')"
      ],
      "metadata": {
        "colab": {
          "base_uri": "https://localhost:8080/"
        },
        "id": "RUkIK-PAkKfF",
        "outputId": "6159a085-2965-49a1-f3c8-1587abab92a3"
      },
      "execution_count": null,
      "outputs": [
        {
          "output_type": "stream",
          "name": "stdout",
          "text": [
            "100 97 94 91 88 85 82 79 76 73 70 67 64 61 58 55 52 49 46 43 40 37 34 31 28 25 22 19 16 13 10 7 4 1 "
          ]
        }
      ]
    },
    {
      "cell_type": "code",
      "source": [],
      "metadata": {
        "id": "uRp3HjQ9c0TZ"
      },
      "execution_count": null,
      "outputs": []
    }
  ]
}